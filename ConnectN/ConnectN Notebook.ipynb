{
 "cells": [
  {
   "cell_type": "code",
   "execution_count": 1,
   "metadata": {},
   "outputs": [],
   "source": [
    "import connectn as CN"
   ]
  },
  {
   "cell_type": "code",
   "execution_count": 2,
   "metadata": {},
   "outputs": [],
   "source": [
    "N = 4\n",
    "g = CN.ConnectN(N)"
   ]
  },
  {
   "cell_type": "code",
   "execution_count": 3,
   "metadata": {},
   "outputs": [
    {
     "name": "stdout",
     "output_type": "stream",
     "text": [
      "[0, 0, 0, 0]\n",
      "[0, 0, 0, 0]\n",
      "[0, 0, 0, 0]\n",
      "[0, 0, 0, 0]\n"
     ]
    }
   ],
   "source": [
    "print(g)"
   ]
  },
  {
   "cell_type": "code",
   "execution_count": 4,
   "metadata": {},
   "outputs": [
    {
     "name": "stdout",
     "output_type": "stream",
     "text": [
      "Player 1 plays in column 0\n",
      "[0, 0, 0, 0]\n",
      "[0, 0, 0, 0]\n",
      "[0, 0, 0, 0]\n",
      "[1, 0, 0, 0]\n"
     ]
    }
   ],
   "source": [
    "g.drop_piece(0)\n",
    "print(g)"
   ]
  },
  {
   "cell_type": "code",
   "execution_count": 5,
   "metadata": {},
   "outputs": [
    {
     "name": "stdout",
     "output_type": "stream",
     "text": [
      "Player 2 plays in column 1\n",
      "[0, 0, 0, 0]\n",
      "[0, 0, 0, 0]\n",
      "[0, 0, 0, 0]\n",
      "[1, 2, 0, 0]\n"
     ]
    }
   ],
   "source": [
    "g.drop_piece(1)\n",
    "print(g)"
   ]
  },
  {
   "cell_type": "code",
   "execution_count": 6,
   "metadata": {},
   "outputs": [
    {
     "name": "stdout",
     "output_type": "stream",
     "text": [
      "Player 1 plays in column 0\n",
      "Player 2 plays in column 1\n",
      "Player 1 plays in column 0\n",
      "Player 2 plays in column 1\n",
      "Player 1 plays in column 0\n",
      "Player 1 wins in 7 moves!\n",
      "Call reset() to play again.\n",
      "[1, 0, 0, 0]\n",
      "[1, 2, 0, 0]\n",
      "[1, 2, 0, 0]\n",
      "[1, 2, 0, 0]\n"
     ]
    }
   ],
   "source": [
    "g.drop_piece(0)\n",
    "g.drop_piece(1)\n",
    "g.drop_piece(0)\n",
    "g.drop_piece(1)\n",
    "g.drop_piece(0)\n",
    "print(g)"
   ]
  },
  {
   "cell_type": "code",
   "execution_count": 7,
   "metadata": {},
   "outputs": [
    {
     "name": "stdout",
     "output_type": "stream",
     "text": [
      "Player 1 plays in column 1\n",
      "Player 2 plays in column 1\n",
      "Player 1 plays in column 0\n",
      "Player 2 plays in column 0\n",
      "Player 1 plays in column 2\n",
      "Player 2 plays in column 2\n",
      "Player 1 plays in column 3\n",
      "Player 1 wins in 7 moves!\n",
      "Call reset() to play again.\n",
      "[0, 0, 0, 0]\n",
      "[0, 0, 0, 0]\n",
      "[2, 2, 2, 0]\n",
      "[1, 1, 1, 1]\n"
     ]
    }
   ],
   "source": [
    "g.reset()\n",
    "g.drop_piece(1)\n",
    "g.drop_piece(1)\n",
    "g.drop_piece(0)\n",
    "g.drop_piece(0)\n",
    "g.drop_piece(2)\n",
    "g.drop_piece(2)\n",
    "g.drop_piece(3)\n",
    "print(g)"
   ]
  },
  {
   "cell_type": "code",
   "execution_count": 10,
   "metadata": {},
   "outputs": [
    {
     "name": "stdout",
     "output_type": "stream",
     "text": [
      "Player 1 plays in column 0\n",
      "Player 2 plays in column 1\n",
      "Player 1 plays in column 1\n",
      "Player 2 plays in column 2\n",
      "Player 1 plays in column 0\n",
      "Player 2 plays in column 2\n",
      "[0, 0, 0, 0]\n",
      "[0, 0, 0, 0]\n",
      "[1, 1, 2, 0]\n",
      "[1, 2, 2, 0]\n"
     ]
    }
   ],
   "source": [
    "g.reset()\n",
    "g.drop_piece(0)\n",
    "g.drop_piece(1)\n",
    "g.drop_piece(1)\n",
    "g.drop_piece(2)\n",
    "g.drop_piece(0)\n",
    "g.drop_piece(2)\n",
    "print(g)\n",
    "#g.drop_piece(2)\n",
    "#print(g)"
   ]
  },
  {
   "cell_type": "code",
   "execution_count": null,
   "metadata": {},
   "outputs": [],
   "source": []
  }
 ],
 "metadata": {
  "kernelspec": {
   "display_name": "Python 3",
   "language": "python",
   "name": "python3"
  },
  "language_info": {
   "codemirror_mode": {
    "name": "ipython",
    "version": 3
   },
   "file_extension": ".py",
   "mimetype": "text/x-python",
   "name": "python",
   "nbconvert_exporter": "python",
   "pygments_lexer": "ipython3",
   "version": "3.7.4"
  }
 },
 "nbformat": 4,
 "nbformat_minor": 4
}
