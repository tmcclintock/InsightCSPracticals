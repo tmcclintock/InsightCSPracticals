{
 "cells": [
  {
   "cell_type": "code",
   "execution_count": 1,
   "metadata": {},
   "outputs": [],
   "source": [
    "import minesweeper as ms"
   ]
  },
  {
   "cell_type": "code",
   "execution_count": 2,
   "metadata": {},
   "outputs": [],
   "source": [
    "size = 5\n",
    "N = 5"
   ]
  },
  {
   "cell_type": "code",
   "execution_count": 3,
   "metadata": {},
   "outputs": [],
   "source": [
    "b = ms.board(size = size, N = N)"
   ]
  },
  {
   "cell_type": "code",
   "execution_count": 4,
   "metadata": {},
   "outputs": [
    {
     "name": "stdout",
     "output_type": "stream",
     "text": [
      "['_' '_' '_' '_' '_']\n",
      "['_' '_' '_' '_' '_']\n",
      "['_' '_' '_' '_' '_']\n",
      "['_' '_' '_' '_' '_']\n",
      "['_' '_' '_' '_' '_']\n"
     ]
    }
   ],
   "source": [
    "print(b)"
   ]
  },
  {
   "cell_type": "code",
   "execution_count": 5,
   "metadata": {},
   "outputs": [
    {
     "name": "stdout",
     "output_type": "stream",
     "text": [
      "[1 0 1 0 0]\n",
      "[0 0 0 0 0]\n",
      "[0 1 0 0 0]\n",
      "[1 0 0 0 0]\n",
      "[1 0 0 0 0]\n"
     ]
    }
   ],
   "source": [
    "b.print_secret_board()"
   ]
  },
  {
   "cell_type": "code",
   "execution_count": 6,
   "metadata": {},
   "outputs": [
    {
     "name": "stdout",
     "output_type": "stream",
     "text": [
      "['_' '_' '_' '1' '_']\n",
      "['_' '_' '_' '_' '_']\n",
      "['_' '_' '_' '_' '_']\n",
      "['_' '_' '_' '_' '_']\n",
      "['_' '_' '_' '_' '_']\n"
     ]
    }
   ],
   "source": [
    "b.click(0, 3)"
   ]
  },
  {
   "cell_type": "code",
   "execution_count": 7,
   "metadata": {},
   "outputs": [
    {
     "name": "stdout",
     "output_type": "stream",
     "text": [
      "['_' '_' '_' '1' '_']\n",
      "['_' '_' '_' '_' '_']\n",
      "['2' '_' '_' '_' '_']\n",
      "['_' '_' '_' '_' '_']\n",
      "['_' '_' '_' '_' '_']\n"
     ]
    }
   ],
   "source": [
    "b.click(2, 0)"
   ]
  },
  {
   "cell_type": "code",
   "execution_count": 8,
   "metadata": {},
   "outputs": [
    {
     "name": "stdout",
     "output_type": "stream",
     "text": [
      "['_' '_' '_' '1' 'C']\n",
      "['_' '_' '2' '1' 'C']\n",
      "['2' '_' '1' 'C' 'C']\n",
      "['_' '3' '1' 'C' 'C']\n",
      "['_' '2' 'C' 'C' 'C']\n"
     ]
    }
   ],
   "source": [
    "b.click(4, 4)"
   ]
  },
  {
   "cell_type": "code",
   "execution_count": 9,
   "metadata": {},
   "outputs": [
    {
     "name": "stdout",
     "output_type": "stream",
     "text": [
      "['_' '_' '_' '1' 'C']\n",
      "['_' '_' '2' '1' 'C']\n",
      "['2' '_' '1' 'C' 'C']\n",
      "['_' '3' '1' 'C' 'C']\n",
      "['_' '2' 'C' 'C' 'C']\n"
     ]
    }
   ],
   "source": [
    "b.click(0, 4)"
   ]
  },
  {
   "cell_type": "code",
   "execution_count": 10,
   "metadata": {},
   "outputs": [
    {
     "name": "stdout",
     "output_type": "stream",
     "text": [
      "['_' '_' '*' '1' 'C']\n",
      "['_' '_' '2' '1' 'C']\n",
      "['2' '_' '1' 'C' 'C']\n",
      "['_' '3' '1' 'C' 'C']\n",
      "['_' '2' 'C' 'C' 'C']\n",
      "[1 0 1 0 0]\n",
      "[0 0 0 0 0]\n",
      "[0 1 0 0 0]\n",
      "[1 0 0 0 0]\n",
      "[1 0 0 0 0]\n",
      "you explode\n"
     ]
    }
   ],
   "source": [
    "b.click(0,2)"
   ]
  },
  {
   "cell_type": "code",
   "execution_count": null,
   "metadata": {},
   "outputs": [],
   "source": []
  }
 ],
 "metadata": {
  "kernelspec": {
   "display_name": "Python 3",
   "language": "python",
   "name": "python3"
  },
  "language_info": {
   "codemirror_mode": {
    "name": "ipython",
    "version": 3
   },
   "file_extension": ".py",
   "mimetype": "text/x-python",
   "name": "python",
   "nbconvert_exporter": "python",
   "pygments_lexer": "ipython3",
   "version": "3.7.4"
  }
 },
 "nbformat": 4,
 "nbformat_minor": 4
}
