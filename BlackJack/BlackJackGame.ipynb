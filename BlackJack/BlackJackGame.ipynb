{
 "cells": [
  {
   "cell_type": "code",
   "execution_count": 1,
   "metadata": {},
   "outputs": [],
   "source": [
    "import blackjack"
   ]
  },
  {
   "cell_type": "code",
   "execution_count": 2,
   "metadata": {},
   "outputs": [
    {
     "name": "stdout",
     "output_type": "stream",
     "text": [
      "call my play_game() function to play BlackJack\n"
     ]
    }
   ],
   "source": [
    "BJG = blackjack.blackjackgame()"
   ]
  },
  {
   "cell_type": "code",
   "execution_count": 3,
   "metadata": {},
   "outputs": [
    {
     "name": "stdout",
     "output_type": "stream",
     "text": [
      "You show 4\n",
      "With cards: 2, 2\n",
      "Dealer shows 5\n",
      "With cards: 5\n",
      "and one card hidden\n",
      "Call hit() or stay()\n"
     ]
    }
   ],
   "source": [
    "BJG.play_game()"
   ]
  },
  {
   "cell_type": "code",
   "execution_count": 4,
   "metadata": {},
   "outputs": [
    {
     "name": "stdout",
     "output_type": "stream",
     "text": [
      "You show 14\n",
      "With cards: 2, 2, Q\n",
      "Call hit() or stay()\n"
     ]
    }
   ],
   "source": [
    "BJG.hit()"
   ]
  },
  {
   "cell_type": "code",
   "execution_count": 5,
   "metadata": {},
   "outputs": [
    {
     "name": "stdout",
     "output_type": "stream",
     "text": [
      "Dealer flips the hidden card\n",
      "Dealer shows 15\n",
      "With cards: Q, 5\n",
      "Dealer hits\n",
      "Dealer busts with 24! Congrats!\n"
     ]
    }
   ],
   "source": [
    "BJG.stay()"
   ]
  },
  {
   "cell_type": "code",
   "execution_count": 6,
   "metadata": {},
   "outputs": [
    {
     "name": "stdout",
     "output_type": "stream",
     "text": [
      "You show 9\n",
      "With cards: 4, 5\n",
      "Dealer shows 9\n",
      "With cards: 9\n",
      "and one card hidden\n",
      "Call hit() or stay()\n",
      "You show 18\n",
      "With cards: 4, 5, 9\n",
      "Call hit() or stay()\n",
      "Dealer flips the hidden card\n",
      "Dealer shows 19\n",
      "With cards: Q, 9\n",
      "Dealer wins. Better luck next time!\n"
     ]
    }
   ],
   "source": [
    "BJG.play_game()\n",
    "BJG.hit()\n",
    "BJG.stay()"
   ]
  },
  {
   "cell_type": "code",
   "execution_count": null,
   "metadata": {},
   "outputs": [],
   "source": []
  }
 ],
 "metadata": {
  "kernelspec": {
   "display_name": "Python 3",
   "language": "python",
   "name": "python3"
  },
  "language_info": {
   "codemirror_mode": {
    "name": "ipython",
    "version": 3
   },
   "file_extension": ".py",
   "mimetype": "text/x-python",
   "name": "python",
   "nbconvert_exporter": "python",
   "pygments_lexer": "ipython3",
   "version": "3.7.4"
  }
 },
 "nbformat": 4,
 "nbformat_minor": 4
}
